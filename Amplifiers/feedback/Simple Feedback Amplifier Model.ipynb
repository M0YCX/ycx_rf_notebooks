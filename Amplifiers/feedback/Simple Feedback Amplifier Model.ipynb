{
 "cells": [
  {
   "cell_type": "markdown",
   "id": "4a99f4f9-4a9e-48bb-9631-7c95830fd8a8",
   "metadata": {},
   "source": [
    "# Simple Practical Feedback Amplifier Model\n",
    "\n",
    "> Refs:\n",
    "> * Introduction to Radio Frequency Design by Wes Hayward [page 21]\n",
    "\n"
   ]
  },
  {
   "cell_type": "code",
   "execution_count": 1,
   "id": "be7879a1-af23-4516-bc46-f048ad75869b",
   "metadata": {},
   "outputs": [
    {
     "data": {
      "application/vnd.jupyter.widget-view+json": {
       "model_id": "28423931280646e0aff44fb3f3b816ae",
       "version_major": 2,
       "version_minor": 0
      },
      "text/plain": [
       "interactive(children=(SelectionSlider(description='$R_s$', index=1, layout=Layout(width='auto'), options=(25, …"
      ]
     },
     "metadata": {},
     "output_type": "display_data"
    }
   ],
   "source": [
    "import sys\n",
    "\n",
    "sys.path.append(\"../../lib\")\n",
    "from feedback import interactive_simple_fba\n",
    "\n",
    "%matplotlib inline\n",
    "%config InlineBackend.figure_format = 'svg'\n",
    "\n",
    "display(interactive_simple_fba)"
   ]
  }
 ],
 "metadata": {
  "kernelspec": {
   "display_name": "Python 3 (ipykernel)",
   "language": "python",
   "name": "python3"
  },
  "language_info": {
   "codemirror_mode": {
    "name": "ipython",
    "version": 3
   },
   "file_extension": ".py",
   "mimetype": "text/x-python",
   "name": "python",
   "nbconvert_exporter": "python",
   "pygments_lexer": "ipython3",
   "version": "3.12.3"
  }
 },
 "nbformat": 4,
 "nbformat_minor": 5
}
