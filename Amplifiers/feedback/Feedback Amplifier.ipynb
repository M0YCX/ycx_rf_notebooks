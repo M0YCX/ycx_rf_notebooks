{
 "cells": [
  {
   "cell_type": "markdown",
   "id": "7146190e-f69a-4eb5-9c79-561ef6facf23",
   "metadata": {},
   "source": [
    "# Feedback Amplifier\n",
    "\n",
    "> Refs:\n",
    "> * _Introduction to Radio Frequency Design_, Wes Hayward [Chapter 5 Two-Port Networks]\n",
    "> * _Experimental Methods in RF Design_, w7zoi, kk7b, w7pua - CDROM"
   ]
  },
  {
   "cell_type": "code",
   "execution_count": 2,
   "id": "aa77440e-e17b-46de-bf20-31c8736c0733",
   "metadata": {
    "editable": true,
    "slideshow": {
     "slide_type": ""
    },
    "tags": []
   },
   "outputs": [
    {
     "data": {
      "application/vnd.jupyter.widget-view+json": {
       "model_id": "ecde2e81610f4481b8b79b31207fafe5",
       "version_major": 2,
       "version_minor": 0
      },
      "text/plain": [
       "GridBox(children=(FloatText(value=10.0, description='$F$ MHz', layout=Layout(grid_area='F_mhz', width='auto'),…"
      ]
     },
     "metadata": {},
     "output_type": "display_data"
    },
    {
     "data": {
      "application/vnd.jupyter.widget-view+json": {
       "model_id": "8a009de96df34a2aa756e63129f4802c",
       "version_major": 2,
       "version_minor": 0
      },
      "text/plain": [
       "Output(outputs=({'output_type': 'display_data', 'data': {'text/plain': '<schemdraw.schemdraw.Drawing at 0x78cf…"
      ]
     },
     "metadata": {},
     "output_type": "display_data"
    }
   ],
   "source": [
    "import sys\n",
    "\n",
    "sys.path.append(\"../../lib\")\n",
    "from feedback import interactive_complex_fba\n",
    "\n",
    "%matplotlib inline\n",
    "%config InlineBackend.figure_format = 'svg'\n",
    "\n",
    "display(interactive_complex_fba[0], interactive_complex_fba[1])"
   ]
  },
  {
   "cell_type": "markdown",
   "id": "89e7a4f6-a3bb-4d6c-8f22-6499607f5b6f",
   "metadata": {},
   "source": [
    "TODO: Calc from datasheet provided Y-Parameters for a chosen transistor"
   ]
  },
  {
   "cell_type": "markdown",
   "id": "0f08f9b5-d551-40ab-9221-a1022217590e",
   "metadata": {},
   "source": [
    "TODO: Calc from manufacturer provided S-Parameters Touchstone file for a chosen transistor"
   ]
  }
 ],
 "metadata": {
  "kernelspec": {
   "display_name": "Python 3 (ipykernel)",
   "language": "python",
   "name": "python3"
  },
  "language_info": {
   "codemirror_mode": {
    "name": "ipython",
    "version": 3
   },
   "file_extension": ".py",
   "mimetype": "text/x-python",
   "name": "python",
   "nbconvert_exporter": "python",
   "pygments_lexer": "ipython3",
   "version": "3.12.3"
  }
 },
 "nbformat": 4,
 "nbformat_minor": 5
}
