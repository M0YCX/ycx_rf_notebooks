{
 "cells": [
  {
   "cell_type": "markdown",
   "id": "7146190e-f69a-4eb5-9c79-561ef6facf23",
   "metadata": {},
   "source": [
    "# Feedback Amplifier\n",
    "\n",
    "> Refs:\n",
    "> * _Introduction to Radio Frequency Design_, Wes Hayward [Chapter 5 Two-Port Networks]\n",
    "> * _Experimental Methods in RF Design_, w7zoi, kk7b, w7pua - CDROM"
   ]
  },
  {
   "cell_type": "code",
   "execution_count": 1,
   "id": "aa77440e-e17b-46de-bf20-31c8736c0733",
   "metadata": {
    "editable": true,
    "slideshow": {
     "slide_type": ""
    },
    "tags": []
   },
   "outputs": [
    {
     "data": {
      "application/vnd.jupyter.widget-view+json": {
       "model_id": "e90576dc62924990968102399a45f12c",
       "version_major": 2,
       "version_minor": 0
      },
      "text/plain": [
       "GridBox(children=(FloatText(value=10.0, description='$F$ MHz', layout=Layout(grid_area='F_mhz', width='auto'),…"
      ]
     },
     "metadata": {},
     "output_type": "display_data"
    },
    {
     "data": {
      "application/vnd.jupyter.widget-view+json": {
       "model_id": "902f214e294d48248924399babdb0d3a",
       "version_major": 2,
       "version_minor": 0
      },
      "text/plain": [
       "Output()"
      ]
     },
     "metadata": {},
     "output_type": "display_data"
    }
   ],
   "source": [
    "import sys\n",
    "\n",
    "sys.path.append(\"../../lib\")\n",
    "from feedback import interactive_complex_fba\n",
    "\n",
    "%matplotlib inline\n",
    "%config InlineBackend.figure_format = 'svg'\n",
    "\n",
    "display(interactive_complex_fba[0], interactive_complex_fba[1])"
   ]
  }
 ],
 "metadata": {
  "kernelspec": {
   "display_name": "Python 3 (ipykernel)",
   "language": "python",
   "name": "python3"
  },
  "language_info": {
   "codemirror_mode": {
    "name": "ipython",
    "version": 3
   },
   "file_extension": ".py",
   "mimetype": "text/x-python",
   "name": "python",
   "nbconvert_exporter": "python",
   "pygments_lexer": "ipython3",
   "version": "3.12.3"
  }
 },
 "nbformat": 4,
 "nbformat_minor": 5
}
