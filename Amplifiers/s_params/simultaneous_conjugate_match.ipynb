{
 "cells": [
  {
   "cell_type": "markdown",
   "id": "df4192e2-0cfd-43c0-aa0c-9822a10ee96c",
   "metadata": {},
   "source": [
    "# Simultaneous Conjugate Match from S-Parameters"
   ]
  },
  {
   "cell_type": "code",
   "execution_count": 1,
   "id": "cf676f9e-ac57-40a4-822d-6e8253d2097f",
   "metadata": {},
   "outputs": [
    {
     "data": {
      "text/html": [
       "<hr><h3>Test Example</h3><table><tr><th colspan=\"3\" style=\"text-align:left;\">S-Parameters: (from datasheet or measurement)</th><tr><td>s11<td>S:-0.38042+0.12361j : [mag:0.40000 ∠162.00000]</td><tr><td>s22<td>S:0.27200-0.22026j : [mag:0.35000 ∠-39.00000]</td><tr><td>s12<td>S:0.02000+0.03464j : [mag:0.04000 ∠60.00000]</td><tr><td>s21<td>S:2.36075+4.63323j : [mag:5.20000 ∠63.00000]</td><tr><th colspan=\"3\" style=\"text-align:left;\">Stability Factor:</th><tr><td>$D_S$<td>0.03704-0.05703j : [mag:0.06800 ∠-57.00000]</td><tr><td>Rollett $K$<td style=\"color: green;\">1.736<td style=\"text-align:left; color: green;\">PASSED OK</td><tr><th colspan=\"3\" style=\"text-align:left;\">Maximum Available Gain:</th><tr><td>$MAG$<td>16.1 dB</td><tr><td>vs the Intrinsic Forward Gain $dB$<td>14.3 dB</td><tr><th colspan=\"3\" style=\"text-align:left;\">Simultaneous Conjugate Match:</th><tr style=\"border: 1px solid #b3b2b2\"><td>$\\Gamma_S$<td>-0.49664-0.16137j : [mag:0.52220 ∠-162.00000]</td><tr><td>$Z_S$<td>16.04847-7.12137j : [mag:17.55755 ∠-23.92884]<td>$Z_0$ = Z:50.00000+0.00000j : [mag:50.00000 ∠0.00000]</td><tr><td>$Y_S$<td>Y:0.05206+0.02310j : [mag:0.05696 ∠23.92884]</td><tr style=\"border: 1px solid #b3b2b2\"><td>$\\Gamma_L$<td>0.37870+0.30667j : [mag:0.48730 ∠39.00000]</td><tr><td>$Z_L$<td>79.42207+63.88092j : [mag:101.92466 ∠38.81049]<td>$Z_0$ = Z:50.00000+0.00000j : [mag:50.00000 ∠0.00000]</td><tr><td>$Y_L$<td>Y:0.00765-0.00615j : [mag:0.00981 ∠-38.81049]</td><tr><th colspan=\"3\" style=\"text-align:left;\">Transducer Gain:</th><tr><td>Gain<td>16.1 dB</td></table>"
      ],
      "text/plain": [
       "<IPython.core.display.HTML object>"
      ]
     },
     "metadata": {},
     "output_type": "display_data"
    }
   ],
   "source": [
    "import sys\n",
    "\n",
    "from ycx_complex_numbers import S, Z\n",
    "\n",
    "sys.path.append(\"../../lib\")\n",
    "from nb_s_params import nb_calc_simultaneous_conjugate_match\n",
    "\n",
    "\n",
    "def calc_conjugate_fromS(\n",
    "    s11=None, s22=None, s21=None, s12=None, title=\"\", Z0=Z(50 + 0j)\n",
    "):\n",
    "    nb_calc_simultaneous_conjugate_match(\n",
    "        s11=s11, s22=s22, s21=s21, s12=s12, title=title, Z0=Z0\n",
    "    )\n",
    "\n",
    "\n",
    "calc_conjugate_fromS(\n",
    "    s11=S().from_polar(0.4, 162),\n",
    "    s22=S().from_polar(0.35, -39),\n",
    "    s21=S().from_polar(5.2, 63),\n",
    "    s12=S().from_polar(0.04, 60),\n",
    "    title=\"Test Example\",\n",
    ")"
   ]
  }
 ],
 "metadata": {
  "kernelspec": {
   "display_name": "Python 3 (ipykernel)",
   "language": "python",
   "name": "python3"
  },
  "language_info": {
   "codemirror_mode": {
    "name": "ipython",
    "version": 3
   },
   "file_extension": ".py",
   "mimetype": "text/x-python",
   "name": "python",
   "nbconvert_exporter": "python",
   "pygments_lexer": "ipython3",
   "version": "3.10.12"
  }
 },
 "nbformat": 4,
 "nbformat_minor": 5
}
