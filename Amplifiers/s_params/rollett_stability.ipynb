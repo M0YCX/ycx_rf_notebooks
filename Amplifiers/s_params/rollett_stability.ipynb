{
 "cells": [
  {
   "cell_type": "markdown",
   "id": "cf757a21-04f1-47a6-afec-7efab42d5aaf",
   "metadata": {},
   "source": [
    "# Rollett Stability Calculator\n",
    "\n",
    "> Ref:\n",
    "> * https://github.com/M0YCX/ycx_rf_amplifiers/blob/master/docs/s_params/rollett_stability.md"
   ]
  },
  {
   "cell_type": "code",
   "execution_count": 1,
   "id": "3df8aaf5-323c-44b2-bdfc-251c8536a4b2",
   "metadata": {},
   "outputs": [
    {
     "data": {
      "text/html": [
       "<style type=\"text/css\">\n",
       "#T_a6153_row0_col0 {\n",
       "  font-weight: bold;\n",
       "}\n",
       "</style>\n",
       "<table id=\"T_a6153\">\n",
       "  <thead>\n",
       "    <tr>\n",
       "      <th id=\"T_a6153_level0_col0\" class=\"col_heading level0 col0\" >S Params</th>\n",
       "      <th id=\"T_a6153_level0_col1\" class=\"col_heading level0 col1\" >Rollett K</th>\n",
       "      <th id=\"T_a6153_level0_col2\" class=\"col_heading level0 col2\" >Pass</th>\n",
       "    </tr>\n",
       "  </thead>\n",
       "  <tbody>\n",
       "    <tr>\n",
       "      <td id=\"T_a6153_row0_col0\" class=\"data row0 col0\" >s11:S:-0.38042+0.12361j : [mag:0.40000} ∠162.00000]<br>\n",
       "s22:S:0.27200-0.22026j : [mag:0.35000} ∠-39.00000]<br>\n",
       "s21:S:2.36075+4.63323j : [mag:5.20000} ∠63.00000]<br>\n",
       "s12:S:0.02000+0.03464j : [mag:0.04000} ∠60.00000]</td>\n",
       "      <td id=\"T_a6153_row0_col1\" class=\"data row0 col1\" >1.735875</td>\n",
       "      <td id=\"T_a6153_row0_col2\" class=\"data row0 col2\" >✓</td>\n",
       "    </tr>\n",
       "  </tbody>\n",
       "</table>\n"
      ],
      "text/plain": [
       "<pandas.io.formats.style.Styler at 0x730b4d5b4e00>"
      ]
     },
     "execution_count": 1,
     "metadata": {},
     "output_type": "execute_result"
    }
   ],
   "source": [
    "import math\n",
    "\n",
    "import pandas as pd\n",
    "from ycx_complex_numbers import S\n",
    "from ycx_rf_amplifiers.s_params import calc_rollett_stability\n",
    "\n",
    "data = {\n",
    "    \"S Params\": [],\n",
    "    \"Rollett K\": [],\n",
    "    \"Pass\": [],\n",
    "}\n",
    "\n",
    "\n",
    "def calc_K(s11=None, s22=None, s21=None, s12=None):\n",
    "    status = \"✗\"\n",
    "    K = calc_rollett_stability(s11=s11, s22=s22, s21=s21, s12=s12)\n",
    "    if K > 1:\n",
    "        status = \"✓\"\n",
    "    data[\"S Params\"].append(f\"s11:{s11}<br>\\ns22:{s22}<br>\\ns21:{s21}<br>\\ns12:{s12}\"),\n",
    "    data[\"Rollett K\"].append(K)\n",
    "    data[\"Pass\"].append(status)\n",
    "\n",
    "\n",
    "# Transistor S-parameters at a given frequency and bias conditions:-\n",
    "\n",
    "calc_K(\n",
    "    s11=S().from_polar(0.4, 162),\n",
    "    s22=S().from_polar(0.35, -39),\n",
    "    s12=S().from_polar(0.04, 60),\n",
    "    s21=S().from_polar(5.2, 63),\n",
    ")\n",
    "\n",
    "df = pd.DataFrame(data)\n",
    "df.style.set_properties(subset=[\"S Params\"], **{\"font-weight\": \"bold\"}).hide()"
   ]
  },
  {
   "cell_type": "code",
   "execution_count": 4,
   "id": "17f37bee-83d0-498b-a799-9945f51e7033",
   "metadata": {},
   "outputs": [
    {
     "data": {
      "text/html": [
       "<style type=\"text/css\">\n",
       "#T_2b5bd_row0_col0, #T_2b5bd_row1_col0 {\n",
       "  font-weight: bold;\n",
       "}\n",
       "</style>\n",
       "<table id=\"T_2b5bd\">\n",
       "  <thead>\n",
       "    <tr>\n",
       "      <th id=\"T_2b5bd_level0_col0\" class=\"col_heading level0 col0\" >S Params</th>\n",
       "      <th id=\"T_2b5bd_level0_col1\" class=\"col_heading level0 col1\" >Rollett K</th>\n",
       "      <th id=\"T_2b5bd_level0_col2\" class=\"col_heading level0 col2\" >Pass</th>\n",
       "    </tr>\n",
       "  </thead>\n",
       "  <tbody>\n",
       "    <tr>\n",
       "      <td id=\"T_2b5bd_row0_col0\" class=\"data row0 col0\" >s11:S:-0.38042+0.12361j : [mag:0.40000} ∠162.00000]<br>\n",
       "s22:S:0.27200-0.22026j : [mag:0.35000} ∠-39.00000]<br>\n",
       "s21:S:2.36075+4.63323j : [mag:5.20000} ∠63.00000]<br>\n",
       "s12:S:0.02000+0.03464j : [mag:0.04000} ∠60.00000]</td>\n",
       "      <td id=\"T_2b5bd_row0_col1\" class=\"data row0 col1\" >1.735875</td>\n",
       "      <td id=\"T_2b5bd_row0_col2\" class=\"data row0 col2\" >✓</td>\n",
       "    </tr>\n",
       "    <tr>\n",
       "      <td id=\"T_2b5bd_row1_col0\" class=\"data row1 col0\" >s11:S:0.32606+0.02881j : [mag:0.32733} ∠5.04884]<br>\n",
       "s22:S:0.97464-0.07508j : [mag:0.97753} ∠-4.40510]<br>\n",
       "s21:S:0.65618-0.05868j : [mag:0.65880} ∠-5.10985]<br>\n",
       "s12:S:0.02203+0.01123j : [mag:0.02473} ∠27.00260]</td>\n",
       "      <td id=\"T_2b5bd_row1_col1\" class=\"data row1 col1\" >0.927746</td>\n",
       "      <td id=\"T_2b5bd_row1_col2\" class=\"data row1 col2\" >✗</td>\n",
       "    </tr>\n",
       "  </tbody>\n",
       "</table>\n"
      ],
      "text/plain": [
       "<pandas.io.formats.style.Styler at 0x730ae77c8500>"
      ]
     },
     "execution_count": 4,
     "metadata": {},
     "output_type": "execute_result"
    }
   ],
   "source": [
    "import skrf as rf\n",
    "from skrf import Network\n",
    "\n",
    "n = Network(\"/home/bev/.SimNEC/2/3/D20240820_mixer_buffer_jfet_amp_1mH_step0_1.s2p\")\n",
    "\n",
    "freq = \"10.8mhz\"\n",
    "s11 = n.s11[freq].s[0][0][0]\n",
    "s22 = n.s22[freq].s[0][0][0]\n",
    "s12 = n.s12[freq].s[0][0][0]\n",
    "s21 = n.s21[freq].s[0][0][0]\n",
    "\n",
    "calc_K(\n",
    "    s11=S(s11),\n",
    "    s22=S(s22),\n",
    "    s12=S(s12),\n",
    "    s21=S(s21),\n",
    ")\n",
    "\n",
    "df = pd.DataFrame(data)\n",
    "df.style.set_properties(subset=[\"S Params\"], **{\"font-weight\": \"bold\"}).hide()"
   ]
  }
 ],
 "metadata": {
  "kernelspec": {
   "display_name": "Python 3 (ipykernel)",
   "language": "python",
   "name": "python3"
  },
  "language_info": {
   "codemirror_mode": {
    "name": "ipython",
    "version": 3
   },
   "file_extension": ".py",
   "mimetype": "text/x-python",
   "name": "python",
   "nbconvert_exporter": "python",
   "pygments_lexer": "ipython3",
   "version": "3.12.3"
  }
 },
 "nbformat": 4,
 "nbformat_minor": 5
}
