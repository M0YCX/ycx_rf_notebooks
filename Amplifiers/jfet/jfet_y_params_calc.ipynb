{
 "cells": [
  {
   "cell_type": "markdown",
   "id": "6b8804a8-efa3-4f32-8cd5-18149c82ccd6",
   "metadata": {},
   "source": [
    "# JFET Y-Parameters Modeling Calculator"
   ]
  },
  {
   "cell_type": "code",
   "execution_count": 1,
   "id": "0c805fee-6309-4db8-be39-70d3eacb4d78",
   "metadata": {},
   "outputs": [
    {
     "data": {
      "application/vnd.jupyter.widget-view+json": {
       "model_id": "3b35e5a78f804af3ad770d685497d02e",
       "version_major": 2,
       "version_minor": 0
      },
      "text/plain": [
       "interactive(children=(Text(value='JFET', description='title'), FloatText(value=2.5, description='$C_{dg}\\\\ pf$…"
      ]
     },
     "metadata": {},
     "output_type": "display_data"
    }
   ],
   "source": [
    "import sys\n",
    "\n",
    "sys.path.append(\"../../lib\")\n",
    "from models import calc_plot_jfet, interactive_calc_plot_jfet\n",
    "\n",
    "%matplotlib inline\n",
    "%config InlineBackend.figure_format = 'svg'\n",
    "\n",
    "display(interactive_calc_plot_jfet)"
   ]
  }
 ],
 "metadata": {
  "kernelspec": {
   "display_name": "Python 3 (ipykernel)",
   "language": "python",
   "name": "python3"
  },
  "language_info": {
   "codemirror_mode": {
    "name": "ipython",
    "version": 3
   },
   "file_extension": ".py",
   "mimetype": "text/x-python",
   "name": "python",
   "nbconvert_exporter": "python",
   "pygments_lexer": "ipython3",
   "version": "3.12.3"
  }
 },
 "nbformat": 4,
 "nbformat_minor": 5
}
