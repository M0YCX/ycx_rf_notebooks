{
 "cells": [
  {
   "cell_type": "markdown",
   "id": "4a299052-eb99-40c3-bb31-04aa6aaf5882",
   "metadata": {},
   "source": [
    "# Simultaneous Conjugate Match from Y-Parameters\n",
    "\n",
    "> Ref:\n",
    "> * https://github.com/M0YCX/ycx_rf_amplifiers/blob/master/docs/y_params/simultaneous_conjugate_match.md"
   ]
  },
  {
   "cell_type": "code",
   "execution_count": 4,
   "id": "8d90138e-0459-472b-9d48-01b6769d26b3",
   "metadata": {},
   "outputs": [
    {
     "data": {
      "text/html": [
       "<hr><h3>Test Example</h3><table><tr><th colspan=\"2\" style=\"text-align:left;\">Y-Parameters: (from datasheet or measurement)<tr><td>yi<td>Y:8.00000+5.70000j : [mag:9.82293 ∠35.46987]<tr><td>yo<td>Y:0.40000+1.50000j : [mag:1.55242 ∠75.06858]<tr><td>yf<td>Y:52.00000-20.00000j : [mag:55.71355 ∠-21.03751]<tr><td>yr<td>Y:0.01000-0.10000j : [mag:0.10050 ∠-84.28941]<tr><th colspan=\"2\" style=\"text-align:left;\">Stability Factor:<tr><td>Linvill $C$<td style=\"color: green;\">0.7106<td style=\"text-align:left; color: green;\">✓<tr><th colspan=\"2\" style=\"text-align:left;\">Maximum Available Gain:<tr><td>MAG $dB$<td>23.8 dB<tr><th colspan=\"2\" style=\"text-align:left;\">Source:<tr><td>$Y_S$<td>Y:6.93091-12.45000j : [mag:14.24921 ∠-60.89533] mmhos<tr><td>$Z_S$<td>Y:34.13568+61.31797j : [mag:70.17933 ∠60.89533] ohms<tr><td>Transistor i/p $Y$<td>Y:6.93091+12.45000j : [mag:14.24921 ∠60.89533] mmhos<td>(conjugate of $Y_S$)<tr><td>Transistor i/p $Z$<td>Y:34.13568-61.31797j : [mag:70.17933 ∠-60.89533] ohms<td>(conjugate of $Z_S$)<tr><th colspan=\"2\" style=\"text-align:left;\">Load:<tr><td>$Y_L$<td>Y:0.34655-1.83750j : [mag:1.86989 ∠-79.31968] mmhos<tr><td>$Z_L$<td>Y:99.11210+525.52553j : [mag:534.78995 ∠79.31968] ohms<tr><td>Transistor o/p $Y$<td>Y:0.34655+1.83750j : [mag:1.86989 ∠79.31968] mmhos<td>(conjugate of $Y_L$)<tr><td>Transistor o/p $Z$<td>Y:99.11210-525.52553j : [mag:534.78995 ∠-79.31968] ohms<td>(conjugate of $Z_L$)<tr><th colspan=\"2\" style=\"text-align:left;\">Transducer Gain:<tr><td>Gain $dB$<td>23.6 dB</table>"
      ],
      "text/plain": [
       "<IPython.core.display.HTML object>"
      ]
     },
     "metadata": {},
     "output_type": "display_data"
    }
   ],
   "source": [
    "import sys\n",
    "\n",
    "from ycx_complex_numbers import Y\n",
    "\n",
    "sys.path.append(\"../../lib\")\n",
    "from nb_y_params import nb_calc_simultaneous_conjugate_match\n",
    "\n",
    "nb_calc_simultaneous_conjugate_match(\n",
    "    # input admittance:\n",
    "    yi=Y(8 + 5.7j),\n",
    "    # output admittance:\n",
    "    yo=Y(0.4 + 1.5j),\n",
    "    # forward-transfer admittance:\n",
    "    yf=Y(52 - 20j),\n",
    "    # reverse-transfer admittance:\n",
    "    yr=Y(0.01 - 0.1j),\n",
    "    title=\"Test Example\",\n",
    ")"
   ]
  }
 ],
 "metadata": {
  "kernelspec": {
   "display_name": "Python 3 (ipykernel)",
   "language": "python",
   "name": "python3"
  },
  "language_info": {
   "codemirror_mode": {
    "name": "ipython",
    "version": 3
   },
   "file_extension": ".py",
   "mimetype": "text/x-python",
   "name": "python",
   "nbconvert_exporter": "python",
   "pygments_lexer": "ipython3",
   "version": "3.10.12"
  }
 },
 "nbformat": 4,
 "nbformat_minor": 5
}
