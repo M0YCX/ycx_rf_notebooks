{
 "cells": [
  {
   "cell_type": "markdown",
   "id": "12658920-2d35-425e-97ce-9b043e9b4466",
   "metadata": {},
   "source": [
    "# Linvill Stability Calculator\n",
    "\n",
    "> Ref:\n",
    "> * https://github.com/M0YCX/ycx_rf_amplifiers/blob/master/docs/y_params/linvill_stability.md"
   ]
  },
  {
   "cell_type": "code",
   "execution_count": 1,
   "id": "a086ede9-3a03-4bfe-9b21-86c7b3dbe34f",
   "metadata": {},
   "outputs": [
    {
     "data": {
      "text/html": [
       "<style type=\"text/css\">\n",
       "#T_a7ebc_row0_col0 {\n",
       "  font-weight: bold;\n",
       "}\n",
       "</style>\n",
       "<table id=\"T_a7ebc\">\n",
       "  <thead>\n",
       "    <tr>\n",
       "      <th id=\"T_a7ebc_level0_col0\" class=\"col_heading level0 col0\" >Y Params</th>\n",
       "      <th id=\"T_a7ebc_level0_col1\" class=\"col_heading level0 col1\" >Linvill C</th>\n",
       "      <th id=\"T_a7ebc_level0_col2\" class=\"col_heading level0 col2\" >Pass</th>\n",
       "    </tr>\n",
       "  </thead>\n",
       "  <tbody>\n",
       "    <tr>\n",
       "      <td id=\"T_a7ebc_row0_col0\" class=\"data row0 col0\" >yi:Y:14.00000+1.00000j : [mag:14.03567 ∠4.08562]<br>\n",
       "yo:Y:0.20000+2.00000j : [mag:2.00998 ∠84.28941]<br>\n",
       "yf:Y:-14.00000+0.80000j : [mag:14.02284 ∠176.72951]<br>\n",
       "yr:Y:0.20000-0.20000j : [mag:0.28284 ∠-45.00000]</td>\n",
       "      <td id=\"T_a7ebc_row0_col1\" class=\"data row0 col1\" >0.481342</td>\n",
       "      <td id=\"T_a7ebc_row0_col2\" class=\"data row0 col2\" >✓</td>\n",
       "    </tr>\n",
       "  </tbody>\n",
       "</table>\n"
      ],
      "text/plain": [
       "<pandas.io.formats.style.Styler at 0x7bc7f855d340>"
      ]
     },
     "execution_count": 1,
     "metadata": {},
     "output_type": "execute_result"
    }
   ],
   "source": [
    "import math\n",
    "\n",
    "import pandas as pd\n",
    "from ycx_complex_numbers import Y\n",
    "from ycx_rf_amplifiers.y_params import calc_linvill_stability\n",
    "\n",
    "data = {\n",
    "    \"Y Params\": [],\n",
    "    \"Linvill C\": [],\n",
    "    \"Pass\": [],\n",
    "}\n",
    "\n",
    "\n",
    "def calc_C(yi=None, yo=None, yf=None, yr=None):\n",
    "    status = \"✗\"\n",
    "    C = calc_linvill_stability(yi, yo, yf, yr)\n",
    "    if C >= 0 and C < 1:\n",
    "        status = \"✓\"\n",
    "    data[\"Y Params\"].append(f\"yi:{yi}<br>\\nyo:{yo}<br>\\nyf:{yf}<br>\\nyr:{yr}\"),\n",
    "    data[\"Linvill C\"].append(C)\n",
    "    data[\"Pass\"].append(status)\n",
    "\n",
    "\n",
    "# Transistor Y-parameters at a given frequency and bias conditions:-\n",
    "\n",
    "calc_C(yi=Y(14 + 1j), yo=Y(0.2 + 2j), yf=Y(-14 + 0.8j), yr=Y(0.2 - 0.2j))\n",
    "\n",
    "df = pd.DataFrame(data)\n",
    "df.style.set_properties(subset=[\"Y Params\"], **{\"font-weight\": \"bold\"}).hide()"
   ]
  }
 ],
 "metadata": {
  "kernelspec": {
   "display_name": "Python 3 (ipykernel)",
   "language": "python",
   "name": "python3"
  },
  "language_info": {
   "codemirror_mode": {
    "name": "ipython",
    "version": 3
   },
   "file_extension": ".py",
   "mimetype": "text/x-python",
   "name": "python",
   "nbconvert_exporter": "python",
   "pygments_lexer": "ipython3",
   "version": "3.12.3"
  }
 },
 "nbformat": 4,
 "nbformat_minor": 5
}
