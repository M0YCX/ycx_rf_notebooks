{
 "cells": [
  {
   "cell_type": "markdown",
   "id": "6ec1611b-699e-4c22-8cf3-e7efb28262e7",
   "metadata": {},
   "source": [
    "# Tolerance Calcs"
   ]
  },
  {
   "cell_type": "code",
   "execution_count": 3,
   "id": "0a3e3c85-6412-4127-badf-4c7bc27b4737",
   "metadata": {},
   "outputs": [
    {
     "data": {
      "text/html": [
       "<style type=\"text/css\">\n",
       "</style>\n",
       "<table id=\"T_285e3\">\n",
       "  <thead>\n",
       "    <tr>\n",
       "      <th id=\"T_285e3_level0_col0\" class=\"col_heading level0 col0\" >Component Value</th>\n",
       "      <th id=\"T_285e3_level0_col1\" class=\"col_heading level0 col1\" >Tolerance</th>\n",
       "      <th id=\"T_285e3_level0_col2\" class=\"col_heading level0 col2\" >Variance</th>\n",
       "      <th id=\"T_285e3_level0_col3\" class=\"col_heading level0 col3\" >From</th>\n",
       "      <th id=\"T_285e3_level0_col4\" class=\"col_heading level0 col4\" >To</th>\n",
       "    </tr>\n",
       "  </thead>\n",
       "  <tbody>\n",
       "    <tr>\n",
       "      <td id=\"T_285e3_row0_col0\" class=\"data row0 col0\" >6.800000</td>\n",
       "      <td id=\"T_285e3_row0_col1\" class=\"data row0 col1\" >± 20%</td>\n",
       "      <td id=\"T_285e3_row0_col2\" class=\"data row0 col2\" >± 1.36</td>\n",
       "      <td id=\"T_285e3_row0_col3\" class=\"data row0 col3\" >5.440000</td>\n",
       "      <td id=\"T_285e3_row0_col4\" class=\"data row0 col4\" >8.160000</td>\n",
       "    </tr>\n",
       "    <tr>\n",
       "      <td id=\"T_285e3_row1_col0\" class=\"data row1 col0\" >75.000000</td>\n",
       "      <td id=\"T_285e3_row1_col1\" class=\"data row1 col1\" >± 5%</td>\n",
       "      <td id=\"T_285e3_row1_col2\" class=\"data row1 col2\" >± 3.75</td>\n",
       "      <td id=\"T_285e3_row1_col3\" class=\"data row1 col3\" >71.250000</td>\n",
       "      <td id=\"T_285e3_row1_col4\" class=\"data row1 col4\" >78.750000</td>\n",
       "    </tr>\n",
       "    <tr>\n",
       "      <td id=\"T_285e3_row2_col0\" class=\"data row2 col0\" >100.000000</td>\n",
       "      <td id=\"T_285e3_row2_col1\" class=\"data row2 col1\" >± 5%</td>\n",
       "      <td id=\"T_285e3_row2_col2\" class=\"data row2 col2\" >± 5.0</td>\n",
       "      <td id=\"T_285e3_row2_col3\" class=\"data row2 col3\" >95.000000</td>\n",
       "      <td id=\"T_285e3_row2_col4\" class=\"data row2 col4\" >105.000000</td>\n",
       "    </tr>\n",
       "    <tr>\n",
       "      <td id=\"T_285e3_row3_col0\" class=\"data row3 col0\" >220.000000</td>\n",
       "      <td id=\"T_285e3_row3_col1\" class=\"data row3 col1\" >± 15%</td>\n",
       "      <td id=\"T_285e3_row3_col2\" class=\"data row3 col2\" >± 33.0</td>\n",
       "      <td id=\"T_285e3_row3_col3\" class=\"data row3 col3\" >187.000000</td>\n",
       "      <td id=\"T_285e3_row3_col4\" class=\"data row3 col4\" >253.000000</td>\n",
       "    </tr>\n",
       "    <tr>\n",
       "      <td id=\"T_285e3_row4_col0\" class=\"data row4 col0\" >330.000000</td>\n",
       "      <td id=\"T_285e3_row4_col1\" class=\"data row4 col1\" >± 10%</td>\n",
       "      <td id=\"T_285e3_row4_col2\" class=\"data row4 col2\" >± 33.0</td>\n",
       "      <td id=\"T_285e3_row4_col3\" class=\"data row4 col3\" >297.000000</td>\n",
       "      <td id=\"T_285e3_row4_col4\" class=\"data row4 col4\" >363.000000</td>\n",
       "    </tr>\n",
       "    <tr>\n",
       "      <td id=\"T_285e3_row5_col0\" class=\"data row5 col0\" >357.000000</td>\n",
       "      <td id=\"T_285e3_row5_col1\" class=\"data row5 col1\" >± 10%</td>\n",
       "      <td id=\"T_285e3_row5_col2\" class=\"data row5 col2\" >± 35.7</td>\n",
       "      <td id=\"T_285e3_row5_col3\" class=\"data row5 col3\" >321.300000</td>\n",
       "      <td id=\"T_285e3_row5_col4\" class=\"data row5 col4\" >392.700000</td>\n",
       "    </tr>\n",
       "    <tr>\n",
       "      <td id=\"T_285e3_row6_col0\" class=\"data row6 col0\" >2200.000000</td>\n",
       "      <td id=\"T_285e3_row6_col1\" class=\"data row6 col1\" >± 2.5%</td>\n",
       "      <td id=\"T_285e3_row6_col2\" class=\"data row6 col2\" >± 55.0</td>\n",
       "      <td id=\"T_285e3_row6_col3\" class=\"data row6 col3\" >2145.000000</td>\n",
       "      <td id=\"T_285e3_row6_col4\" class=\"data row6 col4\" >2255.000000</td>\n",
       "    </tr>\n",
       "  </tbody>\n",
       "</table>\n"
      ],
      "text/plain": [
       "<pandas.io.formats.style.Styler at 0x79af4637f5f0>"
      ]
     },
     "execution_count": 3,
     "metadata": {},
     "output_type": "execute_result"
    }
   ],
   "source": [
    "import math\n",
    "\n",
    "import pandas as pd\n",
    "\n",
    "data = {\"Component Value\": [], \"Tolerance\": [], \"Variance\": [], \"From\": [], \"To\": []}\n",
    "\n",
    "\n",
    "def calc_range_from_value_and_tolerance(component_value=None, tolerance_percent=5):\n",
    "    variance = component_value * (tolerance_percent / 100)\n",
    "\n",
    "    data[\"Component Value\"].append(component_value)\n",
    "    data[\"Tolerance\"].append(f\"± {tolerance_percent}%\")\n",
    "    data[\"Variance\"].append(\n",
    "        f\"± {variance}\",\n",
    "    )\n",
    "    data[\"From\"].append(component_value - variance)\n",
    "    data[\"To\"].append(component_value + variance)\n",
    "\n",
    "\n",
    "calc_range_from_value_and_tolerance(component_value=6.8, tolerance_percent=20)\n",
    "\n",
    "calc_range_from_value_and_tolerance(component_value=75, tolerance_percent=5)\n",
    "calc_range_from_value_and_tolerance(component_value=100, tolerance_percent=5)\n",
    "calc_range_from_value_and_tolerance(component_value=220, tolerance_percent=15)\n",
    "calc_range_from_value_and_tolerance(component_value=330, tolerance_percent=10)\n",
    "calc_range_from_value_and_tolerance(component_value=357, tolerance_percent=10)\n",
    "\n",
    "calc_range_from_value_and_tolerance(component_value=2200, tolerance_percent=2.5)\n",
    "\n",
    "df = pd.DataFrame(data)\n",
    "df.style.hide()"
   ]
  }
 ],
 "metadata": {
  "kernelspec": {
   "display_name": "Python 3 (ipykernel)",
   "language": "python",
   "name": "python3"
  },
  "language_info": {
   "codemirror_mode": {
    "name": "ipython",
    "version": 3
   },
   "file_extension": ".py",
   "mimetype": "text/x-python",
   "name": "python",
   "nbconvert_exporter": "python",
   "pygments_lexer": "ipython3",
   "version": "3.12.3"
  }
 },
 "nbformat": 4,
 "nbformat_minor": 5
}
