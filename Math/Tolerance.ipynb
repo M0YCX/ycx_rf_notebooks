{
 "cells": [
  {
   "cell_type": "markdown",
   "id": "6ec1611b-699e-4c22-8cf3-e7efb28262e7",
   "metadata": {},
   "source": [
    "# Tolerance Calcs"
   ]
  },
  {
   "cell_type": "code",
   "execution_count": 6,
   "id": "0a3e3c85-6412-4127-badf-4c7bc27b4737",
   "metadata": {},
   "outputs": [
    {
     "data": {
      "text/html": [
       "<style type=\"text/css\">\n",
       "</style>\n",
       "<table id=\"T_0ee6f\">\n",
       "  <thead>\n",
       "    <tr>\n",
       "      <th id=\"T_0ee6f_level0_col0\" class=\"col_heading level0 col0\" >Component Value</th>\n",
       "      <th id=\"T_0ee6f_level0_col1\" class=\"col_heading level0 col1\" >Tolerance</th>\n",
       "      <th id=\"T_0ee6f_level0_col2\" class=\"col_heading level0 col2\" >Variance</th>\n",
       "      <th id=\"T_0ee6f_level0_col3\" class=\"col_heading level0 col3\" >From</th>\n",
       "      <th id=\"T_0ee6f_level0_col4\" class=\"col_heading level0 col4\" >To</th>\n",
       "    </tr>\n",
       "  </thead>\n",
       "  <tbody>\n",
       "    <tr>\n",
       "      <td id=\"T_0ee6f_row0_col0\" class=\"data row0 col0\" >75</td>\n",
       "      <td id=\"T_0ee6f_row0_col1\" class=\"data row0 col1\" >± 5%</td>\n",
       "      <td id=\"T_0ee6f_row0_col2\" class=\"data row0 col2\" >± 3.75</td>\n",
       "      <td id=\"T_0ee6f_row0_col3\" class=\"data row0 col3\" >71.250000</td>\n",
       "      <td id=\"T_0ee6f_row0_col4\" class=\"data row0 col4\" >78.750000</td>\n",
       "    </tr>\n",
       "    <tr>\n",
       "      <td id=\"T_0ee6f_row1_col0\" class=\"data row1 col0\" >100</td>\n",
       "      <td id=\"T_0ee6f_row1_col1\" class=\"data row1 col1\" >± 5%</td>\n",
       "      <td id=\"T_0ee6f_row1_col2\" class=\"data row1 col2\" >± 5.0</td>\n",
       "      <td id=\"T_0ee6f_row1_col3\" class=\"data row1 col3\" >95.000000</td>\n",
       "      <td id=\"T_0ee6f_row1_col4\" class=\"data row1 col4\" >105.000000</td>\n",
       "    </tr>\n",
       "    <tr>\n",
       "      <td id=\"T_0ee6f_row2_col0\" class=\"data row2 col0\" >330</td>\n",
       "      <td id=\"T_0ee6f_row2_col1\" class=\"data row2 col1\" >± 10%</td>\n",
       "      <td id=\"T_0ee6f_row2_col2\" class=\"data row2 col2\" >± 33.0</td>\n",
       "      <td id=\"T_0ee6f_row2_col3\" class=\"data row2 col3\" >297.000000</td>\n",
       "      <td id=\"T_0ee6f_row2_col4\" class=\"data row2 col4\" >363.000000</td>\n",
       "    </tr>\n",
       "    <tr>\n",
       "      <td id=\"T_0ee6f_row3_col0\" class=\"data row3 col0\" >357</td>\n",
       "      <td id=\"T_0ee6f_row3_col1\" class=\"data row3 col1\" >± 10%</td>\n",
       "      <td id=\"T_0ee6f_row3_col2\" class=\"data row3 col2\" >± 35.7</td>\n",
       "      <td id=\"T_0ee6f_row3_col3\" class=\"data row3 col3\" >321.300000</td>\n",
       "      <td id=\"T_0ee6f_row3_col4\" class=\"data row3 col4\" >392.700000</td>\n",
       "    </tr>\n",
       "  </tbody>\n",
       "</table>\n"
      ],
      "text/plain": [
       "<pandas.io.formats.style.Styler at 0x7fb450f63250>"
      ]
     },
     "execution_count": 6,
     "metadata": {},
     "output_type": "execute_result"
    }
   ],
   "source": [
    "import math\n",
    "\n",
    "import pandas as pd\n",
    "\n",
    "data = {\"Component Value\": [], \"Tolerance\": [], \"Variance\": [], \"From\": [], \"To\": []}\n",
    "\n",
    "\n",
    "def calc_range_from_value_and_tolerance(component_value=None, tolerance_percent=5):\n",
    "    variance = component_value * (tolerance_percent / 100)\n",
    "\n",
    "    data[\"Component Value\"].append(component_value)\n",
    "    data[\"Tolerance\"].append(f\"± {tolerance_percent}%\")\n",
    "    data[\"Variance\"].append(\n",
    "        f\"± {variance}\",\n",
    "    )\n",
    "    data[\"From\"].append(component_value - variance)\n",
    "    data[\"To\"].append(component_value + variance)\n",
    "\n",
    "\n",
    "calc_range_from_value_and_tolerance(75, 5)\n",
    "calc_range_from_value_and_tolerance(100, 5)\n",
    "calc_range_from_value_and_tolerance(330, 10)\n",
    "calc_range_from_value_and_tolerance(357, 10)\n",
    "\n",
    "df = pd.DataFrame(data)\n",
    "df.style.hide()"
   ]
  }
 ],
 "metadata": {
  "kernelspec": {
   "display_name": "Python 3 (ipykernel)",
   "language": "python",
   "name": "python3"
  },
  "language_info": {
   "codemirror_mode": {
    "name": "ipython",
    "version": 3
   },
   "file_extension": ".py",
   "mimetype": "text/x-python",
   "name": "python",
   "nbconvert_exporter": "python",
   "pygments_lexer": "ipython3",
   "version": "3.10.12"
  }
 },
 "nbformat": 4,
 "nbformat_minor": 5
}
