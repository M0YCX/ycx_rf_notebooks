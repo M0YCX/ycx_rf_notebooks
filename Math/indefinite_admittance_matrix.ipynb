{
 "cells": [
  {
   "cell_type": "markdown",
   "id": "284ba300-6ac8-433c-887e-d53577fbf180",
   "metadata": {},
   "source": [
    "# Indefinite Admittance Matrix\n",
    "\n",
    "> Refs:\n",
    "> * High Frequency Amplifiers by Ralph S. Carson [page 7...]\n",
    "\n",
    "$$\n",
    "\\begin{bmatrix}\n",
    "I_1 \\\\\n",
    "I_2 \\\\\n",
    "I_3\n",
    "\\end{bmatrix} = \n",
    "\\begin{bmatrix}\n",
    "y_{11} & y_{12} & y_{13} \\\\\n",
    "y_{21} & y_{22} & y_{23} \\\\\n",
    "y_{31} & y_{32} & y_{33} \\\\\n",
    "\\end{bmatrix}\n",
    "\\begin{bmatrix}\n",
    "V_1 \\\\\n",
    "V_2 \\\\\n",
    "V_3\n",
    "\\end{bmatrix}\n",
    "$$\n",
    "\n",
    "The sum of any row or column adds up to zero\n",
    "\n",
    "$$\n",
    "I_1 + I_2 + I_3 = 0\n",
    "$$\n",
    "\n",
    "$$\n",
    "y_{11} + y_{12} + y_{13} = 0\n",
    "$$\n",
    "\n",
    "$$\n",
    "y_{11} + y_{21} + y_{31} = 0\n",
    "$$"
   ]
  },
  {
   "cell_type": "code",
   "execution_count": 111,
   "id": "4e980a7a-2bfd-41ba-b92f-a8a156f7ae92",
   "metadata": {},
   "outputs": [
    {
     "data": {
      "text/html": [
       "<h3>Provided matrix for configuration 'Common-Emitter':-</h3>"
      ],
      "text/plain": [
       "<IPython.core.display.HTML object>"
      ]
     },
     "metadata": {},
     "output_type": "display_data"
    },
    {
     "data": {
      "text/html": [
       "<style type=\"text/css\">\n",
       "</style>\n",
       "<table id=\"T_e27bf\">\n",
       "  <thead>\n",
       "    <tr>\n",
       "      <th class=\"blank level0\" >&nbsp;</th>\n",
       "      <th id=\"T_e27bf_level0_col0\" class=\"col_heading level0 col0\" >Common-Emitter</th>\n",
       "    </tr>\n",
       "  </thead>\n",
       "  <tbody>\n",
       "    <tr>\n",
       "      <th id=\"T_e27bf_level0_row0\" class=\"row_heading level0 row0\" >y11</th>\n",
       "      <td id=\"T_e27bf_row0_col0\" class=\"data row0 col0\" >Y:0.002000+0.002000j : [mag:0.002828 ∠45.000000]</td>\n",
       "    </tr>\n",
       "    <tr>\n",
       "      <th id=\"T_e27bf_level0_row1\" class=\"row_heading level0 row1\" >y12</th>\n",
       "      <td id=\"T_e27bf_row1_col0\" class=\"data row1 col0\" >Y:-0.000002-0.000020j : [mag:0.000020 ∠-95.710593]</td>\n",
       "    </tr>\n",
       "    <tr>\n",
       "      <th id=\"T_e27bf_level0_row2\" class=\"row_heading level0 row2\" >y21</th>\n",
       "      <td id=\"T_e27bf_row2_col0\" class=\"data row2 col0\" >Y:0.020000-0.003000j : [mag:0.020224 ∠-8.530766]</td>\n",
       "    </tr>\n",
       "    <tr>\n",
       "      <th id=\"T_e27bf_level0_row3\" class=\"row_heading level0 row3\" >y22</th>\n",
       "      <td id=\"T_e27bf_row3_col0\" class=\"data row3 col0\" >Y:0.000020+0.000060j : [mag:0.000063 ∠71.565051]</td>\n",
       "    </tr>\n",
       "  </tbody>\n",
       "</table>\n"
      ],
      "text/plain": [
       "<pandas.io.formats.style.Styler at 0x7c4985f77050>"
      ]
     },
     "metadata": {},
     "output_type": "display_data"
    },
    {
     "data": {
      "text/html": [
       "<h3>Provided matrix mapped to table as 'Common-Emitter':-</h3>"
      ],
      "text/plain": [
       "<IPython.core.display.HTML object>"
      ]
     },
     "metadata": {},
     "output_type": "display_data"
    },
    {
     "data": {
      "text/html": [
       "<style type=\"text/css\">\n",
       "</style>\n",
       "<table id=\"T_ac98b\">\n",
       "  <thead>\n",
       "    <tr>\n",
       "      <th class=\"blank level0\" >&nbsp;</th>\n",
       "      <th id=\"T_ac98b_level0_col0\" class=\"col_heading level0 col0\" >Base</th>\n",
       "      <th id=\"T_ac98b_level0_col1\" class=\"col_heading level0 col1\" >Emitter</th>\n",
       "      <th id=\"T_ac98b_level0_col2\" class=\"col_heading level0 col2\" >Collector</th>\n",
       "    </tr>\n",
       "  </thead>\n",
       "  <tbody>\n",
       "    <tr>\n",
       "      <th id=\"T_ac98b_level0_row0\" class=\"row_heading level0 row0\" >Base</th>\n",
       "      <td id=\"T_ac98b_row0_col0\" class=\"data row0 col0\" >Y:0.002000+0.002000j : [mag:0.002828 ∠45.000000]</td>\n",
       "      <td id=\"T_ac98b_row0_col1\" class=\"data row0 col1\" >nan</td>\n",
       "      <td id=\"T_ac98b_row0_col2\" class=\"data row0 col2\" >Y:-0.000002-0.000020j : [mag:0.000020 ∠-95.710593]</td>\n",
       "    </tr>\n",
       "    <tr>\n",
       "      <th id=\"T_ac98b_level0_row1\" class=\"row_heading level0 row1\" >Emitter</th>\n",
       "      <td id=\"T_ac98b_row1_col0\" class=\"data row1 col0\" >nan</td>\n",
       "      <td id=\"T_ac98b_row1_col1\" class=\"data row1 col1\" >nan</td>\n",
       "      <td id=\"T_ac98b_row1_col2\" class=\"data row1 col2\" >nan</td>\n",
       "    </tr>\n",
       "    <tr>\n",
       "      <th id=\"T_ac98b_level0_row2\" class=\"row_heading level0 row2\" >Collector</th>\n",
       "      <td id=\"T_ac98b_row2_col0\" class=\"data row2 col0\" >Y:0.020000-0.003000j : [mag:0.020224 ∠-8.530766]</td>\n",
       "      <td id=\"T_ac98b_row2_col1\" class=\"data row2 col1\" >nan</td>\n",
       "      <td id=\"T_ac98b_row2_col2\" class=\"data row2 col2\" >Y:0.000020+0.000060j : [mag:0.000063 ∠71.565051]</td>\n",
       "    </tr>\n",
       "  </tbody>\n",
       "</table>\n"
      ],
      "text/plain": [
       "<pandas.io.formats.style.Styler at 0x7c4985fbcda0>"
      ]
     },
     "metadata": {},
     "output_type": "display_data"
    },
    {
     "data": {
      "text/html": [
       "<h3>Populated with missing values:-</h3>"
      ],
      "text/plain": [
       "<IPython.core.display.HTML object>"
      ]
     },
     "metadata": {},
     "output_type": "display_data"
    },
    {
     "data": {
      "text/html": [
       "<style type=\"text/css\">\n",
       "</style>\n",
       "<table id=\"T_e602c\">\n",
       "  <thead>\n",
       "    <tr>\n",
       "      <th class=\"blank level0\" >&nbsp;</th>\n",
       "      <th id=\"T_e602c_level0_col0\" class=\"col_heading level0 col0\" >Base</th>\n",
       "      <th id=\"T_e602c_level0_col1\" class=\"col_heading level0 col1\" >Emitter</th>\n",
       "      <th id=\"T_e602c_level0_col2\" class=\"col_heading level0 col2\" >Collector</th>\n",
       "    </tr>\n",
       "  </thead>\n",
       "  <tbody>\n",
       "    <tr>\n",
       "      <th id=\"T_e602c_level0_row0\" class=\"row_heading level0 row0\" >Base</th>\n",
       "      <td id=\"T_e602c_row0_col0\" class=\"data row0 col0\" >Y:0.002000+0.002000j : [mag:0.002828 ∠45.000000]</td>\n",
       "      <td id=\"T_e602c_row0_col1\" class=\"data row0 col1\" >Y:-0.001998-0.001980j : [mag:0.002813 ∠-135.259255]</td>\n",
       "      <td id=\"T_e602c_row0_col2\" class=\"data row0 col2\" >Y:-0.000002-0.000020j : [mag:0.000020 ∠-95.710593]</td>\n",
       "    </tr>\n",
       "    <tr>\n",
       "      <th id=\"T_e602c_level0_row1\" class=\"row_heading level0 row1\" >Emitter</th>\n",
       "      <td id=\"T_e602c_row1_col0\" class=\"data row1 col0\" >Y:-0.022000+0.001000j : [mag:0.022023 ∠177.397438]</td>\n",
       "      <td id=\"T_e602c_row1_col1\" class=\"data row1 col1\" >Y:0.022018-0.000960j : [mag:0.022039 ∠-2.496554]</td>\n",
       "      <td id=\"T_e602c_row1_col2\" class=\"data row1 col2\" >Y:-0.000018-0.000040j : [mag:0.000044 ∠-114.227745]</td>\n",
       "    </tr>\n",
       "    <tr>\n",
       "      <th id=\"T_e602c_level0_row2\" class=\"row_heading level0 row2\" >Collector</th>\n",
       "      <td id=\"T_e602c_row2_col0\" class=\"data row2 col0\" >Y:0.020000-0.003000j : [mag:0.020224 ∠-8.530766]</td>\n",
       "      <td id=\"T_e602c_row2_col1\" class=\"data row2 col1\" >Y:-0.020020+0.002940j : [mag:0.020235 ∠171.645649]</td>\n",
       "      <td id=\"T_e602c_row2_col2\" class=\"data row2 col2\" >Y:0.000020+0.000060j : [mag:0.000063 ∠71.565051]</td>\n",
       "    </tr>\n",
       "  </tbody>\n",
       "</table>\n"
      ],
      "text/plain": [
       "<pandas.io.formats.style.Styler at 0x7c4985fbcda0>"
      ]
     },
     "metadata": {},
     "output_type": "display_data"
    }
   ],
   "source": [
    "import math\n",
    "import sys\n",
    "\n",
    "import numpy as np\n",
    "import pandas as pd\n",
    "from IPython.display import HTML, display\n",
    "\n",
    "sys.path.append(\"../lib\")\n",
    "from ycx_complex_numbers import NetY, Y\n",
    "\n",
    "\n",
    "def tabulate_indefinite_admittance_matrix(\n",
    "    n, labels=[\"Base\", \"Emitter\", \"Collector\"], common_idx=1\n",
    "):\n",
    "    ndf = pd.DataFrame(\n",
    "        [n.y11, n.y12, n.y21, n.y22],\n",
    "        index=[\"y11\", \"y12\", \"y21\", \"y22\"],\n",
    "        columns=[f\"Common-{labels[common_idx]}\"],\n",
    "    )\n",
    "    display(\n",
    "        HTML(\n",
    "            f\"<h3>Provided matrix for configuration 'Common-{labels[common_idx]}':-</h3>\"\n",
    "        )\n",
    "    )\n",
    "    display(ndf.style.format(\"{:.6f}\"))\n",
    "\n",
    "    n = n.m\n",
    "\n",
    "    d = np.full(\n",
    "        (3, 3),\n",
    "        math.nan,\n",
    "        dtype=Y,\n",
    "    )\n",
    "    nroff = 0\n",
    "    ncoff = 0\n",
    "    for r in [0, 1, 2]:\n",
    "        if r == common_idx:\n",
    "            pass\n",
    "        else:\n",
    "            for c in [0, 1, 2]:\n",
    "                if c == common_idx:\n",
    "                    pass\n",
    "                else:\n",
    "                    d[r][c] = n[nroff][ncoff]\n",
    "                    ncoff += 1\n",
    "            nroff += 1\n",
    "        ncoff = 0\n",
    "\n",
    "    ######################\n",
    "    # calc missing values\n",
    "\n",
    "    df = pd.DataFrame(d, columns=labels, index=labels)\n",
    "    display(\n",
    "        HTML(\n",
    "            f\"<h3>Provided matrix mapped to table as 'Common-{labels[common_idx]}':-</h3>\"\n",
    "        )\n",
    "    )\n",
    "    display(df.style.format(\"{:.6f}\"))\n",
    "\n",
    "    # sum nan entries per row\n",
    "    r_nans = df.isna().sum(axis=0)\n",
    "    for r in [0, 1, 2]:\n",
    "        if r_nans.iloc[r] == 1:  # one missing value to resolve\n",
    "            resolv_idx = -1\n",
    "            sum_flds = Y(0 + 0j)\n",
    "            for c in [0, 1, 2]:\n",
    "                if isinstance(df.values[r][c], Y):\n",
    "                    sum_flds += df.values[r][c]\n",
    "                else:\n",
    "                    resolv_idx = c\n",
    "            if resolv_idx > -1:\n",
    "                df.values[r][resolv_idx] = -sum_flds\n",
    "\n",
    "    # sum nan entries per column\n",
    "    c_nans = df.isna().sum(axis=0)\n",
    "    for c in [0, 1, 2]:\n",
    "        if c_nans.iloc[c] == 1:  # one missing value to resolve\n",
    "            resolv_idx = -1\n",
    "            sum_flds = Y(0 + 0j)\n",
    "            for r in [0, 1, 2]:\n",
    "                if isinstance(df.values[r][c], Y):\n",
    "                    sum_flds += df.values[r][c]\n",
    "                else:\n",
    "                    resolv_idx = r\n",
    "            if resolv_idx > -1:\n",
    "                df.values[resolv_idx][c] = -sum_flds\n",
    "\n",
    "    s = df.style.format(\"{:.6f}\")\n",
    "    display(HTML(\"<h3>Populated with missing values:-</h3>\"))\n",
    "    display(s)\n",
    "\n",
    "\n",
    "tabulate_indefinite_admittance_matrix(\n",
    "    NetY(\n",
    "        y11=(2 + 2j) * 10**-3,\n",
    "        y12=(-2 - 20j) * 10**-6,\n",
    "        y21=(20 - 3j) * 10**-3,\n",
    "        y22=(20 + 60j) * 10**-6,\n",
    "    )\n",
    ")"
   ]
  }
 ],
 "metadata": {
  "kernelspec": {
   "display_name": "Python 3 (ipykernel)",
   "language": "python",
   "name": "python3"
  },
  "language_info": {
   "codemirror_mode": {
    "name": "ipython",
    "version": 3
   },
   "file_extension": ".py",
   "mimetype": "text/x-python",
   "name": "python",
   "nbconvert_exporter": "python",
   "pygments_lexer": "ipython3",
   "version": "3.12.3"
  }
 },
 "nbformat": 4,
 "nbformat_minor": 5
}
